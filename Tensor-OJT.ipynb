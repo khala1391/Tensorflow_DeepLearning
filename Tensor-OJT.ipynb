{
 "cells": [
  {
   "cell_type": "code",
   "execution_count": 23,
   "id": "7e423937-0e34-4d83-9c38-00b5903b33d9",
   "metadata": {},
   "outputs": [],
   "source": [
    "import tensorflow as tf"
   ]
  },
  {
   "cell_type": "code",
   "execution_count": 24,
   "id": "5c7e004b-3846-4c09-869b-b5c41506f799",
   "metadata": {},
   "outputs": [],
   "source": [
    "import numpy as np"
   ]
  },
  {
   "cell_type": "code",
   "execution_count": 4,
   "id": "aba244fb-1eac-4889-b7de-8a3b5a71073e",
   "metadata": {},
   "outputs": [
    {
     "name": "stdout",
     "output_type": "stream",
     "text": [
      "2.10.1\n"
     ]
    }
   ],
   "source": [
    "print(tf.__version__)"
   ]
  },
  {
   "cell_type": "code",
   "execution_count": 4,
   "id": "a3642ca6-ff6b-4c6a-9e5f-6a6a3a2f2e2a",
   "metadata": {},
   "outputs": [],
   "source": [
    "random_1 = tf.random.Generator.from_seed(42)\n",
    "random_1 = random_1.normal(shape=(3,2))"
   ]
  },
  {
   "cell_type": "code",
   "execution_count": 5,
   "id": "0ca9484a-fe74-49b1-86b7-0747de28fe95",
   "metadata": {},
   "outputs": [
    {
     "data": {
      "text/plain": [
       "<tf.Tensor: shape=(3, 2), dtype=float32, numpy=\n",
       "array([[-0.7565803 , -0.06854702],\n",
       "       [ 0.07595026, -1.2573844 ],\n",
       "       [-0.23193765, -1.8107855 ]], dtype=float32)>"
      ]
     },
     "execution_count": 5,
     "metadata": {},
     "output_type": "execute_result"
    }
   ],
   "source": [
    "random_1"
   ]
  },
  {
   "cell_type": "code",
   "execution_count": 19,
   "id": "78b6837a-1296-428a-b21f-544747901411",
   "metadata": {},
   "outputs": [],
   "source": [
    "random_2 = tf.random.Generator.from_seed(42)\n",
    "random_2 = random_2.normal(shape =(3,2))\n",
    "random_2 = tf.random.shuffle(random_2, seed=20)"
   ]
  },
  {
   "cell_type": "code",
   "execution_count": 20,
   "id": "9bfb68d9-c7e9-4346-97a8-8463758ec7bb",
   "metadata": {},
   "outputs": [
    {
     "data": {
      "text/plain": [
       "<tf.Tensor: shape=(3, 2), dtype=float32, numpy=\n",
       "array([[-0.7565803 , -0.06854702],\n",
       "       [ 0.07595026, -1.2573844 ],\n",
       "       [-0.23193765, -1.8107855 ]], dtype=float32)>"
      ]
     },
     "execution_count": 20,
     "metadata": {},
     "output_type": "execute_result"
    }
   ],
   "source": [
    "random_2"
   ]
  },
  {
   "cell_type": "code",
   "execution_count": 11,
   "id": "fe439804-94ca-498a-82f7-22210a8befc1",
   "metadata": {},
   "outputs": [
    {
     "data": {
      "text/plain": [
       "<tf.Tensor: shape=(3, 2), dtype=bool, numpy=\n",
       "array([[ True,  True],\n",
       "       [ True,  True],\n",
       "       [ True,  True]])>"
      ]
     },
     "execution_count": 11,
     "metadata": {},
     "output_type": "execute_result"
    }
   ],
   "source": [
    "random_1 == random_2"
   ]
  },
  {
   "cell_type": "markdown",
   "id": "2633c3cd-82cb-4c33-b31e-660eed362b3f",
   "metadata": {},
   "source": [
    "Operations that rely on a random seed actually derive it from two seeds: the global and operation-level seeds. This sets the global seed.\n",
    "https://www.tensorflow.org/api_docs/python/tf/random/set_seed"
   ]
  },
  {
   "cell_type": "code",
   "execution_count": 24,
   "id": "264a11a9-b390-4683-b469-ad148f47ee12",
   "metadata": {},
   "outputs": [],
   "source": [
    "not_shuffled = tf.constant([[10,7],\n",
    "                            [3,4],\n",
    "                            [2,5]\n",
    "                           ])"
   ]
  },
  {
   "cell_type": "code",
   "execution_count": 25,
   "id": "c9de4b02-1421-4c8c-bc24-d6ae440d5b92",
   "metadata": {},
   "outputs": [
    {
     "data": {
      "text/plain": [
       "<tf.Tensor: shape=(3, 2), dtype=int32, numpy=\n",
       "array([[10,  7],\n",
       "       [ 3,  4],\n",
       "       [ 2,  5]])>"
      ]
     },
     "execution_count": 25,
     "metadata": {},
     "output_type": "execute_result"
    }
   ],
   "source": [
    "not_shuffled"
   ]
  },
  {
   "cell_type": "code",
   "execution_count": 60,
   "id": "193083d7-f18e-4c5b-b25b-04e73224a92f",
   "metadata": {},
   "outputs": [
    {
     "data": {
      "text/plain": [
       "<tf.Tensor: shape=(3, 2), dtype=int32, numpy=\n",
       "array([[ 2,  5],\n",
       "       [ 3,  4],\n",
       "       [10,  7]])>"
      ]
     },
     "execution_count": 60,
     "metadata": {},
     "output_type": "execute_result"
    }
   ],
   "source": [
    "tf.random.shuffle(not_shuffled, seed=42)\n",
    "# if use only this,though seed has been set, but result still random"
   ]
  },
  {
   "cell_type": "code",
   "execution_count": 70,
   "id": "6469346b-eab1-4c01-b1cc-3df289223858",
   "metadata": {},
   "outputs": [
    {
     "data": {
      "text/plain": [
       "<tf.Tensor: shape=(3, 2), dtype=int32, numpy=\n",
       "array([[10,  7],\n",
       "       [ 3,  4],\n",
       "       [ 2,  5]])>"
      ]
     },
     "execution_count": 70,
     "metadata": {},
     "output_type": "execute_result"
    }
   ],
   "source": [
    "tf.random.set_seed(42)    # global level random seed\n",
    "tf.random.shuffle(not_shuffled, seed=42)    # operation level random seed"
   ]
  },
  {
   "cell_type": "code",
   "execution_count": 13,
   "id": "f95ad8d4-8ee5-4a67-9aea-20ad5c7a0a67",
   "metadata": {},
   "outputs": [],
   "source": [
    "n = np.ones((2,2))"
   ]
  },
  {
   "cell_type": "code",
   "execution_count": 14,
   "id": "c137bff6-fb2d-479d-8e10-cd367ebe6ed9",
   "metadata": {},
   "outputs": [
    {
     "data": {
      "text/plain": [
       "numpy.ndarray"
      ]
     },
     "execution_count": 14,
     "metadata": {},
     "output_type": "execute_result"
    }
   ],
   "source": [
    "type(n)"
   ]
  },
  {
   "cell_type": "code",
   "execution_count": 16,
   "id": "7456872c-0c03-4b77-be5f-dd0a239ab577",
   "metadata": {},
   "outputs": [],
   "source": [
    "a = tf.ones([3,2,3,4])"
   ]
  },
  {
   "cell_type": "code",
   "execution_count": 17,
   "id": "24f6d8a5-b3aa-49a9-bbf1-97c7ce694906",
   "metadata": {},
   "outputs": [
    {
     "data": {
      "text/plain": [
       "tensorflow.python.framework.ops.EagerTensor"
      ]
     },
     "execution_count": 17,
     "metadata": {},
     "output_type": "execute_result"
    }
   ],
   "source": [
    "type(a)"
   ]
  },
  {
   "cell_type": "code",
   "execution_count": 87,
   "id": "c79bf61f-466c-4cd0-b8ad-2cfcbf666df3",
   "metadata": {},
   "outputs": [
    {
     "data": {
      "text/plain": [
       "<tf.Tensor: shape=(3, 2, 3, 4), dtype=float32, numpy=\n",
       "array([[[[1., 1., 1., 1.],\n",
       "         [1., 1., 1., 1.],\n",
       "         [1., 1., 1., 1.]],\n",
       "\n",
       "        [[1., 1., 1., 1.],\n",
       "         [1., 1., 1., 1.],\n",
       "         [1., 1., 1., 1.]]],\n",
       "\n",
       "\n",
       "       [[[1., 1., 1., 1.],\n",
       "         [1., 1., 1., 1.],\n",
       "         [1., 1., 1., 1.]],\n",
       "\n",
       "        [[1., 1., 1., 1.],\n",
       "         [1., 1., 1., 1.],\n",
       "         [1., 1., 1., 1.]]],\n",
       "\n",
       "\n",
       "       [[[1., 1., 1., 1.],\n",
       "         [1., 1., 1., 1.],\n",
       "         [1., 1., 1., 1.]],\n",
       "\n",
       "        [[1., 1., 1., 1.],\n",
       "         [1., 1., 1., 1.],\n",
       "         [1., 1., 1., 1.]]]], dtype=float32)>"
      ]
     },
     "execution_count": 87,
     "metadata": {},
     "output_type": "execute_result"
    }
   ],
   "source": [
    "a"
   ]
  },
  {
   "cell_type": "code",
   "execution_count": 88,
   "id": "5d7c6596-d65b-4b16-84b8-b905237187c6",
   "metadata": {},
   "outputs": [
    {
     "data": {
      "text/plain": [
       "4"
      ]
     },
     "execution_count": 88,
     "metadata": {},
     "output_type": "execute_result"
    }
   ],
   "source": [
    "a.ndim"
   ]
  },
  {
   "cell_type": "code",
   "execution_count": 19,
   "id": "0ed94ed2-f3a9-490e-a9db-804e7b683434",
   "metadata": {},
   "outputs": [
    {
     "data": {
      "text/plain": [
       "<tf.Tensor: shape=(2, 2), dtype=float32, numpy=\n",
       "array([[1., 1.],\n",
       "       [1., 1.]], dtype=float32)>"
      ]
     },
     "execution_count": 19,
     "metadata": {},
     "output_type": "execute_result"
    }
   ],
   "source": [
    "tf.ones((2,2)) # bracket"
   ]
  },
  {
   "cell_type": "code",
   "execution_count": 90,
   "id": "77e8c29e-7dea-4717-82c9-3a3299dcb469",
   "metadata": {},
   "outputs": [
    {
     "data": {
      "text/plain": [
       "<tf.Tensor: shape=(2, 2), dtype=float32, numpy=\n",
       "array([[1., 1.],\n",
       "       [1., 1.]], dtype=float32)>"
      ]
     },
     "execution_count": 90,
     "metadata": {},
     "output_type": "execute_result"
    }
   ],
   "source": [
    "tf.ones([2,2])   # square bracket"
   ]
  },
  {
   "cell_type": "code",
   "execution_count": 91,
   "id": "d471b496-1b51-424c-9327-7627570c28cd",
   "metadata": {},
   "outputs": [
    {
     "data": {
      "text/plain": [
       "<tf.Tensor: shape=(3, 4), dtype=float32, numpy=\n",
       "array([[0., 0., 0., 0.],\n",
       "       [0., 0., 0., 0.],\n",
       "       [0., 0., 0., 0.]], dtype=float32)>"
      ]
     },
     "execution_count": 91,
     "metadata": {},
     "output_type": "execute_result"
    }
   ],
   "source": [
    "tf.zeros(shape=(3,4))   #bracket"
   ]
  },
  {
   "cell_type": "code",
   "execution_count": 20,
   "id": "ccd6f0d5-6102-414a-ba7a-1d3dfaa44c7d",
   "metadata": {},
   "outputs": [
    {
     "data": {
      "text/plain": [
       "<tf.Tensor: shape=(2, 2), dtype=float32, numpy=\n",
       "array([[0., 0.],\n",
       "       [0., 0.]], dtype=float32)>"
      ]
     },
     "execution_count": 20,
     "metadata": {},
     "output_type": "execute_result"
    }
   ],
   "source": [
    "tf.zeros([2,2])"
   ]
  },
  {
   "cell_type": "code",
   "execution_count": 95,
   "id": "89fbf002-36e7-43c5-b19c-55c2f6693993",
   "metadata": {},
   "outputs": [],
   "source": [
    "b = tf.ones(shape=(3, 2))"
   ]
  },
  {
   "cell_type": "code",
   "execution_count": 96,
   "id": "85d592ce-0c59-48b7-9e6b-3a616aab8ce2",
   "metadata": {},
   "outputs": [
    {
     "data": {
      "text/plain": [
       "2"
      ]
     },
     "execution_count": 96,
     "metadata": {},
     "output_type": "execute_result"
    }
   ],
   "source": [
    "b.ndim"
   ]
  },
  {
   "cell_type": "code",
   "execution_count": 27,
   "id": "7b7bd279-b689-4c27-9caa-1fdf9168a89b",
   "metadata": {},
   "outputs": [],
   "source": [
    "import numpy as np\n",
    "numpy_A = np.arange(1,25, dtype= np.int32)\n",
    "\n",
    "# X = tf.constant(some_matrix) # capital for matrix or tensor\n",
    "# Y = tf.constant(vector) # non-capital for vector\n"
   ]
  },
  {
   "cell_type": "code",
   "execution_count": 28,
   "id": "d1575502-3b4b-4e50-ae1f-5028bae95245",
   "metadata": {},
   "outputs": [
    {
     "data": {
      "text/plain": [
       "array([ 1,  2,  3,  4,  5,  6,  7,  8,  9, 10, 11, 12, 13, 14, 15, 16, 17,\n",
       "       18, 19, 20, 21, 22, 23, 24])"
      ]
     },
     "execution_count": 28,
     "metadata": {},
     "output_type": "execute_result"
    }
   ],
   "source": [
    "numpy_A"
   ]
  },
  {
   "cell_type": "code",
   "execution_count": 29,
   "id": "f1f300b8-5f38-40aa-9824-37182e02f16a",
   "metadata": {},
   "outputs": [
    {
     "data": {
      "text/plain": [
       "(<tf.Tensor: shape=(2, 3, 4), dtype=int32, numpy=\n",
       " array([[[ 1,  2,  3,  4],\n",
       "         [ 5,  6,  7,  8],\n",
       "         [ 9, 10, 11, 12]],\n",
       " \n",
       "        [[13, 14, 15, 16],\n",
       "         [17, 18, 19, 20],\n",
       "         [21, 22, 23, 24]]])>,\n",
       " <tf.Tensor: shape=(24,), dtype=int32, numpy=\n",
       " array([ 1,  2,  3,  4,  5,  6,  7,  8,  9, 10, 11, 12, 13, 14, 15, 16, 17,\n",
       "        18, 19, 20, 21, 22, 23, 24])>)"
      ]
     },
     "execution_count": 29,
     "metadata": {},
     "output_type": "execute_result"
    }
   ],
   "source": [
    "A =tf.constant(numpy_A, shape=(2,3,4))\n",
    "B =tf.constant(numpy_A)\n",
    "\n",
    "A,B"
   ]
  },
  {
   "cell_type": "code",
   "execution_count": 9,
   "id": "6e2efeae-f256-4333-afed-a29d72997f7f",
   "metadata": {},
   "outputs": [
    {
     "data": {
      "text/plain": [
       "<tf.Tensor: shape=(2, 3), dtype=float16, numpy=\n",
       "array([[0., 0., 0.],\n",
       "       [0., 0., 0.]], dtype=float16)>"
      ]
     },
     "execution_count": 9,
     "metadata": {},
     "output_type": "execute_result"
    }
   ],
   "source": [
    "tf.zeros(shape=(2,3), dtype= tf.float16)"
   ]
  },
  {
   "cell_type": "code",
   "execution_count": 22,
   "id": "33acef41-f69a-4b43-9192-3cb8c4a1ef40",
   "metadata": {},
   "outputs": [
    {
     "data": {
      "text/plain": [
       "<tf.Tensor: shape=(2, 3, 4, 5), dtype=float32, numpy=\n",
       "array([[[[0., 0., 0., 0., 0.],\n",
       "         [0., 0., 0., 0., 0.],\n",
       "         [0., 0., 0., 0., 0.],\n",
       "         [0., 0., 0., 0., 0.]],\n",
       "\n",
       "        [[0., 0., 0., 0., 0.],\n",
       "         [0., 0., 0., 0., 0.],\n",
       "         [0., 0., 0., 0., 0.],\n",
       "         [0., 0., 0., 0., 0.]],\n",
       "\n",
       "        [[0., 0., 0., 0., 0.],\n",
       "         [0., 0., 0., 0., 0.],\n",
       "         [0., 0., 0., 0., 0.],\n",
       "         [0., 0., 0., 0., 0.]]],\n",
       "\n",
       "\n",
       "       [[[0., 0., 0., 0., 0.],\n",
       "         [0., 0., 0., 0., 0.],\n",
       "         [0., 0., 0., 0., 0.],\n",
       "         [0., 0., 0., 0., 0.]],\n",
       "\n",
       "        [[0., 0., 0., 0., 0.],\n",
       "         [0., 0., 0., 0., 0.],\n",
       "         [0., 0., 0., 0., 0.],\n",
       "         [0., 0., 0., 0., 0.]],\n",
       "\n",
       "        [[0., 0., 0., 0., 0.],\n",
       "         [0., 0., 0., 0., 0.],\n",
       "         [0., 0., 0., 0., 0.],\n",
       "         [0., 0., 0., 0., 0.]]]], dtype=float32)>"
      ]
     },
     "execution_count": 22,
     "metadata": {},
     "output_type": "execute_result"
    }
   ],
   "source": [
    "a = tf.zeros([2, 3, 4, 5])\n",
    "a"
   ]
  },
  {
   "cell_type": "code",
   "execution_count": 37,
   "id": "084f2b6e-5ebe-48bd-b5ce-fbe437722e5c",
   "metadata": {},
   "outputs": [
    {
     "data": {
      "text/plain": [
       "<tf.Tensor: shape=(2, 3, 4), dtype=int32, numpy=\n",
       "array([[[ 1,  2,  3,  4],\n",
       "        [ 5,  6,  7,  8],\n",
       "        [ 9, 10, 11, 12]],\n",
       "\n",
       "       [[13, 14, 15, 16],\n",
       "        [17, 18, 19, 20],\n",
       "        [21, 22, 23, 24]]])>"
      ]
     },
     "execution_count": 37,
     "metadata": {},
     "output_type": "execute_result"
    }
   ],
   "source": [
    "A"
   ]
  },
  {
   "cell_type": "code",
   "execution_count": 35,
   "id": "c8fd94fe-71ec-493f-8dc6-edafd924326d",
   "metadata": {},
   "outputs": [
    {
     "data": {
      "text/plain": [
       "<tf.Tensor: shape=(1, 3, 4), dtype=int32, numpy=\n",
       "array([[[ 1,  2,  3,  4],\n",
       "        [ 5,  6,  7,  8],\n",
       "        [ 9, 10, 11, 12]]])>"
      ]
     },
     "execution_count": 35,
     "metadata": {},
     "output_type": "execute_result"
    }
   ],
   "source": [
    "A[:1]"
   ]
  },
  {
   "cell_type": "code",
   "execution_count": 38,
   "id": "22ba3546-ccce-4ea0-962c-49372c289517",
   "metadata": {},
   "outputs": [
    {
     "data": {
      "text/plain": [
       "<tf.Tensor: shape=(2, 2, 4), dtype=int32, numpy=\n",
       "array([[[ 1,  2,  3,  4],\n",
       "        [ 5,  6,  7,  8]],\n",
       "\n",
       "       [[13, 14, 15, 16],\n",
       "        [17, 18, 19, 20]]])>"
      ]
     },
     "execution_count": 38,
     "metadata": {},
     "output_type": "execute_result"
    }
   ],
   "source": [
    "A[:2,:2]"
   ]
  },
  {
   "cell_type": "code",
   "execution_count": 39,
   "id": "7f5f62ae-4e64-4402-9c41-c1aa78763e45",
   "metadata": {},
   "outputs": [
    {
     "data": {
      "text/plain": [
       "<tf.Tensor: shape=(2, 2, 2), dtype=int32, numpy=\n",
       "array([[[ 1,  2],\n",
       "        [ 5,  6]],\n",
       "\n",
       "       [[13, 14],\n",
       "        [17, 18]]])>"
      ]
     },
     "execution_count": 39,
     "metadata": {},
     "output_type": "execute_result"
    }
   ],
   "source": [
    "A[:2,:2,:2]"
   ]
  },
  {
   "cell_type": "code",
   "execution_count": 41,
   "id": "d8d49b31-6e25-4f65-8c7b-57b2ccb5c000",
   "metadata": {},
   "outputs": [
    {
     "data": {
      "text/plain": [
       "<tf.Tensor: shape=(1, 2, 3), dtype=int32, numpy=\n",
       "array([[[1, 2, 3],\n",
       "        [5, 6, 7]]])>"
      ]
     },
     "execution_count": 41,
     "metadata": {},
     "output_type": "execute_result"
    }
   ],
   "source": [
    "A[:-1,:-1,:-1]"
   ]
  },
  {
   "cell_type": "code",
   "execution_count": 45,
   "id": "b5eec656-fd9d-4a1c-ae55-9d316ebd8edf",
   "metadata": {},
   "outputs": [
    {
     "data": {
      "text/plain": [
       "<tf.Tensor: shape=(2, 3, 2), dtype=int32, numpy=\n",
       "array([[[ 3,  4],\n",
       "        [ 7,  8],\n",
       "        [11, 12]],\n",
       "\n",
       "       [[15, 16],\n",
       "        [19, 20],\n",
       "        [23, 24]]])>"
      ]
     },
     "execution_count": 45,
     "metadata": {},
     "output_type": "execute_result"
    }
   ],
   "source": [
    "A[:,:,-2:]"
   ]
  },
  {
   "cell_type": "code",
   "execution_count": 3,
   "id": "9b75a2a8-11bd-4f8e-8fb5-5cfe53400ebe",
   "metadata": {},
   "outputs": [
    {
     "data": {
      "text/plain": [
       "<tf.Tensor: shape=(2, 3, 4, 5), dtype=float32, numpy=\n",
       "array([[[[0., 0., 0., 0., 0.],\n",
       "         [0., 0., 0., 0., 0.],\n",
       "         [0., 0., 0., 0., 0.],\n",
       "         [0., 0., 0., 0., 0.]],\n",
       "\n",
       "        [[0., 0., 0., 0., 0.],\n",
       "         [0., 0., 0., 0., 0.],\n",
       "         [0., 0., 0., 0., 0.],\n",
       "         [0., 0., 0., 0., 0.]],\n",
       "\n",
       "        [[0., 0., 0., 0., 0.],\n",
       "         [0., 0., 0., 0., 0.],\n",
       "         [0., 0., 0., 0., 0.],\n",
       "         [0., 0., 0., 0., 0.]]],\n",
       "\n",
       "\n",
       "       [[[0., 0., 0., 0., 0.],\n",
       "         [0., 0., 0., 0., 0.],\n",
       "         [0., 0., 0., 0., 0.],\n",
       "         [0., 0., 0., 0., 0.]],\n",
       "\n",
       "        [[0., 0., 0., 0., 0.],\n",
       "         [0., 0., 0., 0., 0.],\n",
       "         [0., 0., 0., 0., 0.],\n",
       "         [0., 0., 0., 0., 0.]],\n",
       "\n",
       "        [[0., 0., 0., 0., 0.],\n",
       "         [0., 0., 0., 0., 0.],\n",
       "         [0., 0., 0., 0., 0.],\n",
       "         [0., 0., 0., 0., 0.]]]], dtype=float32)>"
      ]
     },
     "execution_count": 3,
     "metadata": {},
     "output_type": "execute_result"
    }
   ],
   "source": [
    "r4tensor = tf.zeros([2, 3, 4, 5])\n",
    "r4tensor"
   ]
  },
  {
   "cell_type": "code",
   "execution_count": 11,
   "id": "f697e2a2-c7bb-48c3-a3bd-a5d9b4d76385",
   "metadata": {},
   "outputs": [
    {
     "data": {
      "text/plain": [
       "TensorShape([2, 2])"
      ]
     },
     "execution_count": 11,
     "metadata": {},
     "output_type": "execute_result"
    }
   ],
   "source": [
    "r2tensor = tf.constant([[10,7],\n",
    "                       [3,4]])\n",
    "r2tensor.shape"
   ]
  },
  {
   "cell_type": "code",
   "execution_count": 12,
   "id": "b1a4437c-7e35-4e4b-8e1c-8b91d9899930",
   "metadata": {},
   "outputs": [
    {
     "data": {
      "text/plain": [
       "2"
      ]
     },
     "execution_count": 12,
     "metadata": {},
     "output_type": "execute_result"
    }
   ],
   "source": [
    "r2tensor.ndim"
   ]
  },
  {
   "cell_type": "code",
   "execution_count": 8,
   "id": "7f566013-cf5e-4918-8920-20170ec233e6",
   "metadata": {},
   "outputs": [
    {
     "data": {
      "text/plain": [
       "<tf.Tensor: shape=(2,), dtype=int32, numpy=array([7, 4])>"
      ]
     },
     "execution_count": 8,
     "metadata": {},
     "output_type": "execute_result"
    }
   ],
   "source": [
    "r2tensor[:,-1]"
   ]
  },
  {
   "cell_type": "code",
   "execution_count": 13,
   "id": "4514aec5-477d-4fad-b69c-7ea4f6dd06eb",
   "metadata": {},
   "outputs": [
    {
     "data": {
      "text/plain": [
       "<tf.Tensor: shape=(2, 2, 1), dtype=int32, numpy=\n",
       "array([[[10],\n",
       "        [ 7]],\n",
       "\n",
       "       [[ 3],\n",
       "        [ 4]]])>"
      ]
     },
     "execution_count": 13,
     "metadata": {},
     "output_type": "execute_result"
    }
   ],
   "source": [
    "r3tensor = r2tensor[...,tf.newaxis]\n",
    "r3tensor"
   ]
  },
  {
   "cell_type": "code",
   "execution_count": 14,
   "id": "224e2c22-1477-42c5-b146-880dbae39a5a",
   "metadata": {},
   "outputs": [
    {
     "data": {
      "text/plain": [
       "<tf.Tensor: shape=(2, 2, 1), dtype=int32, numpy=\n",
       "array([[[10],\n",
       "        [ 7]],\n",
       "\n",
       "       [[ 3],\n",
       "        [ 4]]])>"
      ]
     },
     "execution_count": 14,
     "metadata": {},
     "output_type": "execute_result"
    }
   ],
   "source": [
    "r3tensor = r2tensor[:,:,tf.newaxis]\n",
    "r3tensor"
   ]
  },
  {
   "cell_type": "code",
   "execution_count": 15,
   "id": "598dc891-c886-434a-895e-e43f42d2b953",
   "metadata": {},
   "outputs": [
    {
     "data": {
      "text/plain": [
       "<tf.Tensor: shape=(2, 2, 1), dtype=int32, numpy=\n",
       "array([[[10],\n",
       "        [ 7]],\n",
       "\n",
       "       [[ 3],\n",
       "        [ 4]]])>"
      ]
     },
     "execution_count": 15,
     "metadata": {},
     "output_type": "execute_result"
    }
   ],
   "source": [
    "tf.expand_dims(r2tensor, axis= -1)\n"
   ]
  },
  {
   "cell_type": "code",
   "execution_count": 16,
   "id": "d4ab70df-0207-416d-a6ef-f0f644358b83",
   "metadata": {},
   "outputs": [
    {
     "data": {
      "text/plain": [
       "<tf.Tensor: shape=(1, 2, 2), dtype=int32, numpy=\n",
       "array([[[10,  7],\n",
       "        [ 3,  4]]])>"
      ]
     },
     "execution_count": 16,
     "metadata": {},
     "output_type": "execute_result"
    }
   ],
   "source": [
    "tf.expand_dims(r2tensor, axis= 0)"
   ]
  },
  {
   "cell_type": "code",
   "execution_count": 17,
   "id": "3ebff10d-6788-464a-9a5e-24b07aff3094",
   "metadata": {},
   "outputs": [
    {
     "data": {
      "text/plain": [
       "[1, 2]"
      ]
     },
     "execution_count": 17,
     "metadata": {},
     "output_type": "execute_result"
    }
   ],
   "source": [
    "some_list = [1,2,3,4]\n",
    "some_list[:2]"
   ]
  },
  {
   "cell_type": "code",
   "execution_count": 30,
   "id": "5a2c19b7-28db-47bf-9fe4-890070add404",
   "metadata": {},
   "outputs": [
    {
     "data": {
      "text/plain": [
       "<tf.Tensor: shape=(2, 3, 4), dtype=int32, numpy=\n",
       "array([[[ 1,  2,  3,  4],\n",
       "        [ 5,  6,  7,  8],\n",
       "        [ 9, 10, 11, 12]],\n",
       "\n",
       "       [[13, 14, 15, 16],\n",
       "        [17, 18, 19, 20],\n",
       "        [21, 22, 23, 24]]])>"
      ]
     },
     "execution_count": 30,
     "metadata": {},
     "output_type": "execute_result"
    }
   ],
   "source": [
    "A"
   ]
  },
  {
   "cell_type": "code",
   "execution_count": 35,
   "id": "d1029610-6853-49ef-afc2-c0879c7fbfe4",
   "metadata": {},
   "outputs": [
    {
     "data": {
      "text/plain": [
       "<tf.Tensor: shape=(2, 1, 2), dtype=int32, numpy=\n",
       "array([[[ 1,  2]],\n",
       "\n",
       "       [[13, 14]]])>"
      ]
     },
     "execution_count": 35,
     "metadata": {},
     "output_type": "execute_result"
    }
   ],
   "source": [
    "A[:,:1,:2]"
   ]
  },
  {
   "cell_type": "markdown",
   "id": "c7f93e1d-01c2-4177-9890-3d19b33468b5",
   "metadata": {},
   "source": [
    "# Manipulating tensors (tensor operations)"
   ]
  },
  {
   "cell_type": "markdown",
   "id": "2425f7c6-34af-4555-a52a-83ec37cd5368",
   "metadata": {},
   "source": [
    "## basic operations"
   ]
  },
  {
   "cell_type": "code",
   "execution_count": 36,
   "id": "0c2344ab-8c26-4970-ad60-c778797b2d9f",
   "metadata": {},
   "outputs": [
    {
     "data": {
      "text/plain": [
       "<tf.Tensor: shape=(2, 3, 4), dtype=int32, numpy=\n",
       "array([[[11, 12, 13, 14],\n",
       "        [15, 16, 17, 18],\n",
       "        [19, 20, 21, 22]],\n",
       "\n",
       "       [[23, 24, 25, 26],\n",
       "        [27, 28, 29, 30],\n",
       "        [31, 32, 33, 34]]])>"
      ]
     },
     "execution_count": 36,
     "metadata": {},
     "output_type": "execute_result"
    }
   ],
   "source": [
    "A + 10"
   ]
  },
  {
   "cell_type": "code",
   "execution_count": 38,
   "id": "0d7f7bf3-6173-4a0f-b737-7ef3ed4b2bf3",
   "metadata": {},
   "outputs": [],
   "source": [
    "C = A + 10"
   ]
  },
  {
   "cell_type": "code",
   "execution_count": 39,
   "id": "adef5e6c-e4bf-4c94-94fb-b16074939f26",
   "metadata": {},
   "outputs": [
    {
     "data": {
      "text/plain": [
       "<tf.Tensor: shape=(2, 3, 4), dtype=int32, numpy=\n",
       "array([[[11, 12, 13, 14],\n",
       "        [15, 16, 17, 18],\n",
       "        [19, 20, 21, 22]],\n",
       "\n",
       "       [[23, 24, 25, 26],\n",
       "        [27, 28, 29, 30],\n",
       "        [31, 32, 33, 34]]])>"
      ]
     },
     "execution_count": 39,
     "metadata": {},
     "output_type": "execute_result"
    }
   ],
   "source": [
    "C"
   ]
  },
  {
   "cell_type": "code",
   "execution_count": 40,
   "id": "ebb03cb7-9c22-45ee-96e2-935eaff8bbbc",
   "metadata": {},
   "outputs": [
    {
     "data": {
      "text/plain": [
       "<tf.Tensor: shape=(2, 3, 4), dtype=int32, numpy=\n",
       "array([[[ 1,  2,  3,  4],\n",
       "        [ 5,  6,  7,  8],\n",
       "        [ 9, 10, 11, 12]],\n",
       "\n",
       "       [[13, 14, 15, 16],\n",
       "        [17, 18, 19, 20],\n",
       "        [21, 22, 23, 24]]])>"
      ]
     },
     "execution_count": 40,
     "metadata": {},
     "output_type": "execute_result"
    }
   ],
   "source": [
    "A"
   ]
  },
  {
   "cell_type": "code",
   "execution_count": 41,
   "id": "056aa235-2a72-4795-8559-ea4e6878a3a5",
   "metadata": {},
   "outputs": [
    {
     "data": {
      "text/plain": [
       "<tf.Tensor: shape=(2, 3, 4), dtype=int32, numpy=\n",
       "array([[[ 2,  4,  6,  8],\n",
       "        [10, 12, 14, 16],\n",
       "        [18, 20, 22, 24]],\n",
       "\n",
       "       [[26, 28, 30, 32],\n",
       "        [34, 36, 38, 40],\n",
       "        [42, 44, 46, 48]]])>"
      ]
     },
     "execution_count": 41,
     "metadata": {},
     "output_type": "execute_result"
    }
   ],
   "source": [
    "A*2"
   ]
  },
  {
   "cell_type": "code",
   "execution_count": 42,
   "id": "fe428507-dcb1-4cc5-a1e8-535305cf16ee",
   "metadata": {},
   "outputs": [
    {
     "data": {
      "text/plain": [
       "tensorflow.python.framework.ops.EagerTensor"
      ]
     },
     "execution_count": 42,
     "metadata": {},
     "output_type": "execute_result"
    }
   ],
   "source": [
    "type(A)"
   ]
  },
  {
   "cell_type": "markdown",
   "id": "6cf2dfc3-3d08-4d83-8160-5ef87a10e02d",
   "metadata": {},
   "source": [
    "### built-in TF function"
   ]
  },
  {
   "cell_type": "code",
   "execution_count": 45,
   "id": "1e96e1ae-52dd-4349-be69-7a6c655b737e",
   "metadata": {},
   "outputs": [
    {
     "data": {
      "text/plain": [
       "<tf.Tensor: shape=(2, 3, 4), dtype=int32, numpy=\n",
       "array([[[ 9, 10, 11, 12],\n",
       "        [13, 14, 15, 16],\n",
       "        [17, 18, 19, 20]],\n",
       "\n",
       "       [[21, 22, 23, 24],\n",
       "        [25, 26, 27, 28],\n",
       "        [29, 30, 31, 32]]])>"
      ]
     },
     "execution_count": 45,
     "metadata": {},
     "output_type": "execute_result"
    }
   ],
   "source": [
    "C = tf.add(A,8)\n",
    "C"
   ]
  },
  {
   "cell_type": "code",
   "execution_count": 57,
   "id": "5469eab3-4de1-4124-a961-c62a4021c85a",
   "metadata": {},
   "outputs": [
    {
     "name": "stdout",
     "output_type": "stream",
     "text": [
      "137 µs ± 9.19 µs per loop (mean ± std. dev. of 7 runs, 10,000 loops each)\n"
     ]
    }
   ],
   "source": [
    "%%timeit\n",
    "C = tf.add(A,8)"
   ]
  },
  {
   "cell_type": "code",
   "execution_count": 56,
   "id": "f8297f8d-5eca-4d56-91ca-51b2a80f6e0f",
   "metadata": {},
   "outputs": [
    {
     "data": {
      "text/plain": [
       "numpy.ndarray"
      ]
     },
     "execution_count": 56,
     "metadata": {},
     "output_type": "execute_result"
    }
   ],
   "source": [
    "A_numpy =np.arange(1,25,1)\n",
    "A_numpy = np.reshape(A_numpy,(2,3,4))\n",
    "type(A_numpy)"
   ]
  },
  {
   "cell_type": "code",
   "execution_count": 51,
   "id": "66bd45d0-3024-4f64-9024-1b6b5f8bdc81",
   "metadata": {},
   "outputs": [
    {
     "data": {
      "text/plain": [
       "array([[[ 0,  1,  2,  3],\n",
       "        [ 4,  5,  6,  7],\n",
       "        [ 8,  9, 10, 11]],\n",
       "\n",
       "       [[12, 13, 14, 15],\n",
       "        [16, 17, 18, 19],\n",
       "        [20, 21, 22, 23]]])"
      ]
     },
     "execution_count": 51,
     "metadata": {},
     "output_type": "execute_result"
    }
   ],
   "source": [
    "A_numpy"
   ]
  },
  {
   "cell_type": "code",
   "execution_count": 58,
   "id": "9b7e9f4c-c41a-4fb6-9287-46e1e5a76250",
   "metadata": {},
   "outputs": [
    {
     "name": "stdout",
     "output_type": "stream",
     "text": [
      "14.2 µs ± 1.03 µs per loop (mean ± std. dev. of 7 runs, 100,000 loops each)\n"
     ]
    }
   ],
   "source": [
    "%%timeit\n",
    "C_numpy = np.add(A,8)"
   ]
  },
  {
   "cell_type": "markdown",
   "id": "7386d4e6-8937-468e-a51b-b248b7b47439",
   "metadata": {},
   "source": [
    "https://realpython.com/numpy-tensorflow-performance/#conclusion\n",
    "\n",
    "While the NumPy example proved quicker by a hair than TensorFlow in this case, it’s important to note that TensorFlow really shines for more complex cases. With our relatively elementary regression problem, using TensorFlow arguably amounts to “using a sledgehammer to crack a nut,” as the saying goes."
   ]
  },
  {
   "cell_type": "markdown",
   "id": "0f536bb8-2407-4c4d-8f59-52d6b13660e3",
   "metadata": {},
   "source": [
    "## matrix multiplication"
   ]
  },
  {
   "cell_type": "markdown",
   "id": "59c5debc-ec69-4dd1-8ba5-ce076d10f2a9",
   "metadata": {},
   "source": [
    "dot matrix not element wide\n",
    "dot product"
   ]
  },
  {
   "cell_type": "code",
   "execution_count": null,
   "id": "5b470c9a-becd-475e-bc91-c610f9e105d9",
   "metadata": {},
   "outputs": [],
   "source": []
  },
  {
   "cell_type": "markdown",
   "id": "68bd42eb-aa57-4ac9-971b-c13570d7fd91",
   "metadata": {},
   "source": [
    "# changing datatype of tensor"
   ]
  },
  {
   "cell_type": "markdown",
   "id": "136752cb-9fa0-4d50-a42c-b4cf496fc713",
   "metadata": {},
   "source": [
    "reduce memory in RAM, but reduce calculation accuracy"
   ]
  },
  {
   "cell_type": "code",
   "execution_count": 65,
   "id": "1eb2583b-3629-4008-8c59-39e68fc05467",
   "metadata": {},
   "outputs": [
    {
     "data": {
      "text/plain": [
       "<tf.Tensor: shape=(2,), dtype=float32, numpy=array([1.7, 7.4], dtype=float32)>"
      ]
     },
     "execution_count": 65,
     "metadata": {},
     "output_type": "execute_result"
    }
   ],
   "source": [
    "B = tf.constant([1.7,7.4])\n",
    "B"
   ]
  },
  {
   "cell_type": "code",
   "execution_count": 66,
   "id": "affab1c3-503f-4c1c-bf9d-1cc4f4b35e4b",
   "metadata": {},
   "outputs": [
    {
     "data": {
      "text/plain": [
       "<tf.Tensor: shape=(2,), dtype=int32, numpy=array([ 7, 10])>"
      ]
     },
     "execution_count": 66,
     "metadata": {},
     "output_type": "execute_result"
    }
   ],
   "source": [
    "C = tf.constant([7,10])\n",
    "C"
   ]
  },
  {
   "cell_type": "code",
   "execution_count": 67,
   "id": "a499beeb-826c-4bd1-92c8-468b695e2197",
   "metadata": {},
   "outputs": [
    {
     "data": {
      "text/plain": [
       "<tf.Tensor: shape=(2,), dtype=float16, numpy=array([1.7, 7.4], dtype=float16)>"
      ]
     },
     "execution_count": 67,
     "metadata": {},
     "output_type": "execute_result"
    }
   ],
   "source": [
    "D = tf.cast(B, dtype=tf.float16)\n",
    "D"
   ]
  },
  {
   "cell_type": "markdown",
   "id": "aaefc3a1-f7ae-41fe-a940-06e266f8ed37",
   "metadata": {},
   "source": [
    "# tensor aggregation"
   ]
  },
  {
   "cell_type": "code",
   "execution_count": 68,
   "id": "edceffa2-fc2c-47e2-88d2-0c2ddfc7e430",
   "metadata": {},
   "outputs": [
    {
     "data": {
      "text/plain": [
       "<tf.Tensor: shape=(2,), dtype=int32, numpy=array([ -7, -10])>"
      ]
     },
     "execution_count": 68,
     "metadata": {},
     "output_type": "execute_result"
    }
   ],
   "source": [
    "D = tf.constant([-7,-10])\n",
    "D"
   ]
  },
  {
   "cell_type": "code",
   "execution_count": 69,
   "id": "b42e1d62-6175-4010-a7fb-22d9cc0369ff",
   "metadata": {},
   "outputs": [
    {
     "data": {
      "text/plain": [
       "<tf.Tensor: shape=(2,), dtype=int32, numpy=array([ 7, 10])>"
      ]
     },
     "execution_count": 69,
     "metadata": {},
     "output_type": "execute_result"
    }
   ],
   "source": [
    "tf.abs(D)"
   ]
  },
  {
   "cell_type": "markdown",
   "id": "807b7795-4651-411c-b485-cf95d0d42521",
   "metadata": {},
   "source": [
    "### aggregation\n",
    "- minimum\n",
    "- maximum\n",
    "- mean\n",
    "- sum"
   ]
  },
  {
   "cell_type": "code",
   "execution_count": 80,
   "id": "70174f05-b26b-44c7-adbe-dc7270bd1165",
   "metadata": {},
   "outputs": [
    {
     "data": {
      "text/plain": [
       "<tf.Tensor: shape=(50,), dtype=int32, numpy=\n",
       "array([15, 79, 56, 95, 30, 75, 93, 50,  7, 95, 90, 67, 69, 51, 34, 54, 16,\n",
       "       21, 55, 38, 95, 19, 84, 87, 95, 30, 54, 12, 57, 58, 36, 26, 63, 17,\n",
       "       62, 36, 36, 65, 42, 14, 74, 32, 96, 84, 64, 24, 62, 97, 26, 12])>"
      ]
     },
     "execution_count": 80,
     "metadata": {},
     "output_type": "execute_result"
    }
   ],
   "source": [
    "A = tf.constant(np.random.randint(0,100,size=50))\n",
    "A"
   ]
  },
  {
   "cell_type": "code",
   "execution_count": 81,
   "id": "88cc1645-f997-4da1-a19a-8d5c5e6a51d5",
   "metadata": {},
   "outputs": [
    {
     "data": {
      "text/plain": [
       "<tf.Tensor: shape=(), dtype=int32, numpy=50>"
      ]
     },
     "execution_count": 81,
     "metadata": {},
     "output_type": "execute_result"
    }
   ],
   "source": [
    "tf.size(A)"
   ]
  },
  {
   "cell_type": "code",
   "execution_count": 86,
   "id": "3aced8d9-664b-428b-a3fb-f6f9cb7bde35",
   "metadata": {},
   "outputs": [
    {
     "data": {
      "text/plain": [
       "<tf.Tensor: shape=(5, 10), dtype=int32, numpy=\n",
       "array([[15, 79, 56, 95, 30, 75, 93, 50,  7, 95],\n",
       "       [90, 67, 69, 51, 34, 54, 16, 21, 55, 38],\n",
       "       [95, 19, 84, 87, 95, 30, 54, 12, 57, 58],\n",
       "       [36, 26, 63, 17, 62, 36, 36, 65, 42, 14],\n",
       "       [74, 32, 96, 84, 64, 24, 62, 97, 26, 12]])>"
      ]
     },
     "execution_count": 86,
     "metadata": {},
     "output_type": "execute_result"
    }
   ],
   "source": [
    "B =tf.reshape(A,(5,-1))\n",
    "B"
   ]
  },
  {
   "cell_type": "code",
   "execution_count": 92,
   "id": "6f36e31b-8303-4e37-b4eb-03a674dd4ae6",
   "metadata": {},
   "outputs": [
    {
     "data": {
      "text/plain": [
       "(<tf.Tensor: shape=(), dtype=int32, numpy=97>,\n",
       " <tf.Tensor: shape=(), dtype=int32, numpy=7>,\n",
       " <tf.Tensor: shape=(), dtype=int32, numpy=52>)"
      ]
     },
     "execution_count": 92,
     "metadata": {},
     "output_type": "execute_result"
    }
   ],
   "source": [
    "tf.reduce_max(B), tf.reduce_min(B), tf.reduce_mean(B)"
   ]
  },
  {
   "cell_type": "code",
   "execution_count": 93,
   "id": "b4d4172d-7d20-4397-9231-705dafc23a8b",
   "metadata": {},
   "outputs": [
    {
     "data": {
      "text/plain": [
       "<tf.Tensor: shape=(), dtype=int32, numpy=52>"
      ]
     },
     "execution_count": 93,
     "metadata": {},
     "output_type": "execute_result"
    }
   ],
   "source": [
    "tf.math.reduce_mean(B)"
   ]
  },
  {
   "cell_type": "markdown",
   "id": "3acc79f3-8a73-4eb4-a5ac-df366eda9c43",
   "metadata": {},
   "source": [
    "*** tf cannot return std due to unfit of original dtype"
   ]
  },
  {
   "cell_type": "code",
   "execution_count": 105,
   "id": "22eaa39b-2c66-4bf9-ad92-9833ff027130",
   "metadata": {},
   "outputs": [],
   "source": [
    "B = tf.cast(B, dtype=tf.float32)"
   ]
  },
  {
   "cell_type": "code",
   "execution_count": 106,
   "id": "ba42c9a5-4c08-4176-aba5-a8282980df91",
   "metadata": {},
   "outputs": [
    {
     "data": {
      "text/plain": [
       "tf.float32"
      ]
     },
     "execution_count": 106,
     "metadata": {},
     "output_type": "execute_result"
    }
   ],
   "source": [
    "tf.math.reduce_std(B).dtype"
   ]
  },
  {
   "cell_type": "code",
   "execution_count": 107,
   "id": "dfe9869d-84d2-4540-84b4-fd487ec96f42",
   "metadata": {},
   "outputs": [
    {
     "data": {
      "text/plain": [
       "<tf.Tensor: shape=(), dtype=float32, numpy=27.639458>"
      ]
     },
     "execution_count": 107,
     "metadata": {},
     "output_type": "execute_result"
    }
   ],
   "source": [
    "tf.math.reduce_std(B)"
   ]
  },
  {
   "cell_type": "code",
   "execution_count": 108,
   "id": "4230e746-2099-45ed-97c8-8f88ff6f7c14",
   "metadata": {},
   "outputs": [
    {
     "data": {
      "text/plain": [
       "27.639458"
      ]
     },
     "execution_count": 108,
     "metadata": {},
     "output_type": "execute_result"
    }
   ],
   "source": [
    "tf.math.reduce_std(B).numpy()"
   ]
  },
  {
   "cell_type": "markdown",
   "id": "6ea29c25-9cc2-403b-8619-2a719128ce05",
   "metadata": {},
   "source": [
    "https://www.tensorflow.org/probability/install\n",
    "\n",
    "Note: Since TensorFlow is not included as a dependency of the TensorFlow Probability package (in setup.py), you must explicitly install the TensorFlow package (tensorflow or tensorflow-gpu). This allows us to maintain one package instead of separate packages for CPU and GPU-enabled TensorFlow."
   ]
  },
  {
   "cell_type": "code",
   "execution_count": 115,
   "id": "5f472078-8673-4159-ad5b-8916b4721b02",
   "metadata": {
    "collapsed": true,
    "jupyter": {
     "outputs_hidden": true
    },
    "scrolled": true
   },
   "outputs": [
    {
     "name": "stdout",
     "output_type": "stream",
     "text": [
      "Collecting tensorflow-probability==0.18.0\n",
      "  Downloading tensorflow_probability-0.18.0-py2.py3-none-any.whl.metadata (13 kB)\n",
      "Requirement already satisfied: absl-py in c:\\users\\khala\\anaconda3\\envs\\py310\\lib\\site-packages (from tensorflow-probability==0.18.0) (2.1.0)\n",
      "Requirement already satisfied: six>=1.10.0 in c:\\users\\khala\\anaconda3\\envs\\py310\\lib\\site-packages (from tensorflow-probability==0.18.0) (1.16.0)\n",
      "Requirement already satisfied: numpy>=1.13.3 in c:\\users\\khala\\anaconda3\\envs\\py310\\lib\\site-packages (from tensorflow-probability==0.18.0) (1.26.4)\n",
      "Requirement already satisfied: decorator in c:\\users\\khala\\anaconda3\\envs\\py310\\lib\\site-packages (from tensorflow-probability==0.18.0) (5.1.1)\n",
      "Requirement already satisfied: cloudpickle>=1.3 in c:\\users\\khala\\anaconda3\\envs\\py310\\lib\\site-packages (from tensorflow-probability==0.18.0) (3.0.0)\n",
      "Requirement already satisfied: gast>=0.3.2 in c:\\users\\khala\\anaconda3\\envs\\py310\\lib\\site-packages (from tensorflow-probability==0.18.0) (0.4.0)\n",
      "Requirement already satisfied: dm-tree in c:\\users\\khala\\anaconda3\\envs\\py310\\lib\\site-packages (from tensorflow-probability==0.18.0) (0.1.8)\n",
      "Downloading tensorflow_probability-0.18.0-py2.py3-none-any.whl (6.6 MB)\n",
      "   ---------------------------------------- 0.0/6.6 MB ? eta -:--:--\n",
      "   ---------------------------------------- 0.0/6.6 MB 640.0 kB/s eta 0:00:11\n",
      "   -- ------------------------------------- 0.3/6.6 MB 4.2 MB/s eta 0:00:02\n",
      "   ----- ---------------------------------- 1.0/6.6 MB 7.7 MB/s eta 0:00:01\n",
      "   ---------- ----------------------------- 1.7/6.6 MB 9.8 MB/s eta 0:00:01\n",
      "   --------------- ------------------------ 2.6/6.6 MB 11.7 MB/s eta 0:00:01\n",
      "   ---------------------- ----------------- 3.7/6.6 MB 13.9 MB/s eta 0:00:01\n",
      "   ------------------------ --------------- 4.1/6.6 MB 13.0 MB/s eta 0:00:01\n",
      "   ------------------------------- -------- 5.2/6.6 MB 15.0 MB/s eta 0:00:01\n",
      "   ------------------------------- -------- 5.2/6.6 MB 14.5 MB/s eta 0:00:01\n",
      "   ------------------------------- -------- 5.2/6.6 MB 14.5 MB/s eta 0:00:01\n",
      "   ------------------------------- -------- 5.2/6.6 MB 14.5 MB/s eta 0:00:01\n",
      "   ------------------------------- -------- 5.2/6.6 MB 14.5 MB/s eta 0:00:01\n",
      "   ------------------------------- -------- 5.2/6.6 MB 14.5 MB/s eta 0:00:01\n",
      "   ------------------------------- -------- 5.2/6.6 MB 14.5 MB/s eta 0:00:01\n",
      "   ------------------------------- -------- 5.2/6.6 MB 14.5 MB/s eta 0:00:01\n",
      "   ---------------------------------- ----- 5.7/6.6 MB 7.7 MB/s eta 0:00:01\n",
      "   -------------------------------------- - 6.3/6.6 MB 8.2 MB/s eta 0:00:01\n",
      "   -------------------------------------- - 6.3/6.6 MB 8.2 MB/s eta 0:00:01\n",
      "   -------------------------------------- - 6.3/6.6 MB 8.2 MB/s eta 0:00:01\n",
      "   -------------------------------------- - 6.3/6.6 MB 8.2 MB/s eta 0:00:01\n",
      "   -------------------------------------- - 6.3/6.6 MB 8.2 MB/s eta 0:00:01\n",
      "   -------------------------------------- - 6.3/6.6 MB 8.2 MB/s eta 0:00:01\n",
      "   ---------------------------------------- 6.6/6.6 MB 6.3 MB/s eta 0:00:00\n",
      "Installing collected packages: tensorflow-probability\n",
      "  Attempting uninstall: tensorflow-probability\n",
      "    Found existing installation: tensorflow-probability 0.24.0\n",
      "    Uninstalling tensorflow-probability-0.24.0:\n",
      "      Successfully uninstalled tensorflow-probability-0.24.0\n",
      "Successfully installed tensorflow-probability-0.18.0\n"
     ]
    },
    {
     "name": "stderr",
     "output_type": "stream",
     "text": [
      "WARNING: Ignoring invalid distribution -upyterlab (c:\\users\\khala\\anaconda3\\envs\\py310\\lib\\site-packages)\n",
      "WARNING: Ignoring invalid distribution -upyterlab (c:\\users\\khala\\anaconda3\\envs\\py310\\lib\\site-packages)\n"
     ]
    }
   ],
   "source": [
    "# !pip install tensorflow-probability==0.18.0"
   ]
  },
  {
   "cell_type": "markdown",
   "id": "d9daf228-9167-4361-ad84-f802148e0769",
   "metadata": {},
   "source": [
    "ImportError: This version of TensorFlow Probability requires TensorFlow version >= 2.16; Detected an installation of version 2.10.1. Please upgrade TensorFlow to proceed."
   ]
  },
  {
   "cell_type": "markdown",
   "id": "00490fa9-1a4c-487a-bd55-d1e19a2591ee",
   "metadata": {},
   "source": [
    "This is the 0.18.0 release of TensorFlow Probability. It is tested and stable against TensorFlow version 2.10 and JAX 0.3.17 .\n",
    "https://github.com/tensorflow/probability/releases"
   ]
  },
  {
   "cell_type": "code",
   "execution_count": 116,
   "id": "5154c12a-6545-48ce-a7c5-be29d1531f6d",
   "metadata": {},
   "outputs": [],
   "source": [
    "import tensorflow_probability as tfp"
   ]
  },
  {
   "cell_type": "code",
   "execution_count": 118,
   "id": "58e466cf-fa41-47f2-a8af-0943c86bc3fd",
   "metadata": {},
   "outputs": [
    {
     "data": {
      "text/plain": [
       "<tf.Tensor: shape=(5, 10), dtype=int32, numpy=\n",
       "array([[15, 79, 56, 95, 30, 75, 93, 50,  7, 95],\n",
       "       [90, 67, 69, 51, 34, 54, 16, 21, 55, 38],\n",
       "       [95, 19, 84, 87, 95, 30, 54, 12, 57, 58],\n",
       "       [36, 26, 63, 17, 62, 36, 36, 65, 42, 14],\n",
       "       [74, 32, 96, 84, 64, 24, 62, 97, 26, 12]])>"
      ]
     },
     "execution_count": 118,
     "metadata": {},
     "output_type": "execute_result"
    }
   ],
   "source": [
    "B_int =tf.reshape(A,(5,-1))\n",
    "B_int"
   ]
  },
  {
   "cell_type": "code",
   "execution_count": 119,
   "id": "c8576277-8d36-4bfb-9c82-d01ffe0ba41f",
   "metadata": {},
   "outputs": [
    {
     "data": {
      "text/plain": [
       "<tf.Tensor: shape=(10,), dtype=int32, numpy=array([980, 569, 211, 846, 555, 344, 667, 942, 354, 951])>"
      ]
     },
     "execution_count": 119,
     "metadata": {},
     "output_type": "execute_result"
    }
   ],
   "source": [
    "tfp.stats.variance(B_int)"
   ]
  },
  {
   "cell_type": "code",
   "execution_count": 120,
   "id": "cfe31af7-5156-4bfc-8ef2-406dc6c14f01",
   "metadata": {},
   "outputs": [
    {
     "data": {
      "text/plain": [
       "<tf.Tensor: shape=(10,), dtype=float32, numpy=\n",
       "array([980.4    , 569.04   , 210.63998, 845.75995, 555.2    , 344.16   ,\n",
       "       667.36   , 942.8    , 353.84   , 951.0399 ], dtype=float32)>"
      ]
     },
     "execution_count": 120,
     "metadata": {},
     "output_type": "execute_result"
    }
   ],
   "source": [
    "tfp.stats.variance(B)"
   ]
  },
  {
   "cell_type": "code",
   "execution_count": null,
   "id": "d2ce7bc8-833f-4deb-a4d6-d76ec2f0dc2d",
   "metadata": {},
   "outputs": [],
   "source": []
  }
 ],
 "metadata": {
  "kernelspec": {
   "display_name": "Python 3 (ipykernel)",
   "language": "python",
   "name": "python3"
  },
  "language_info": {
   "codemirror_mode": {
    "name": "ipython",
    "version": 3
   },
   "file_extension": ".py",
   "mimetype": "text/x-python",
   "name": "python",
   "nbconvert_exporter": "python",
   "pygments_lexer": "ipython3",
   "version": "3.10.14"
  }
 },
 "nbformat": 4,
 "nbformat_minor": 5
}
